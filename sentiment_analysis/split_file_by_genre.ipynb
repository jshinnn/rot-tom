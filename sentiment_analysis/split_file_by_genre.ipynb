{
 "cells": [
  {
   "cell_type": "code",
   "execution_count": 4,
   "metadata": {},
   "outputs": [],
   "source": [
    "import pandas as pd\n",
    "\n",
    "# Read CSV file into DataFrame\n",
    "df = pd.read_csv('../only_genres.csv')\n",
    "\n",
    "# Replace NaN values\n",
    "df['genre_list'].fillna(value='', inplace=True)\n",
    "\n",
    "# Filter rows where 'genre_list' column contains 'Action & Adventure'\n",
    "mask = df['genre_list'].str.contains('Action & Adventure')\n",
    "action_df = df[mask].dropna().reset_index(drop=True)\n",
    "\n",
    "# Export filtered DataFrame to CSV file\n",
    "action_df.to_csv('action_and_adventure_reviews.csv', index=False)\n"
   ]
  },
  {
   "cell_type": "code",
   "execution_count": 1,
   "metadata": {},
   "outputs": [
    {
     "name": "stderr",
     "output_type": "stream",
     "text": [
      "/var/folders/lm/dmlc5y790cq1twzy4dtrk2rc0000gn/T/ipykernel_80939/2195146388.py:18: FutureWarning: The pandas.np module is deprecated and will be removed from pandas in a future version. Import numpy directly instead.\n",
      "  filtered_df = df[mask].replace('', pd.np.nan).dropna().reset_index(drop=True)\n",
      "/var/folders/lm/dmlc5y790cq1twzy4dtrk2rc0000gn/T/ipykernel_80939/2195146388.py:18: FutureWarning: The pandas.np module is deprecated and will be removed from pandas in a future version. Import numpy directly instead.\n",
      "  filtered_df = df[mask].replace('', pd.np.nan).dropna().reset_index(drop=True)\n",
      "/var/folders/lm/dmlc5y790cq1twzy4dtrk2rc0000gn/T/ipykernel_80939/2195146388.py:18: FutureWarning: The pandas.np module is deprecated and will be removed from pandas in a future version. Import numpy directly instead.\n",
      "  filtered_df = df[mask].replace('', pd.np.nan).dropna().reset_index(drop=True)\n"
     ]
    }
   ],
   "source": [
    "import pandas as pd\n",
    "\n",
    "# Read CSV file into DataFrame\n",
    "df = pd.read_csv('../only_genres.csv')\n",
    "\n",
    "# Replace NaN values in 'genre_list' column with empty string\n",
    "df['genre_list'].fillna(value='', inplace=True)\n",
    "\n",
    "# Define list of genres to filter on\n",
    "genres = ['Comedy', 'Drama', 'Science Fiction & Fantasy']\n",
    "\n",
    "# Initialize empty list to store filtered DataFrames\n",
    "filtered_dfs = []\n",
    "\n",
    "# Apply filter for each genre in the list\n",
    "for genre in genres:\n",
    "    mask = df['genre_list'].str.contains(genre)\n",
    "    filtered_df = df[mask].replace('', pd.np.nan).dropna().reset_index(drop=True)\n",
    "    filtered_dfs.append(filtered_df)\n",
    "\n",
    "# Export filtered DataFrames to separate CSV files\n",
    "for i, genre in enumerate(genres):\n",
    "    filename = f'{genre}.csv'\n",
    "    filtered_dfs[i].to_csv(filename, index=False)\n"
   ]
  },
  {
   "cell_type": "code",
   "execution_count": 5,
   "metadata": {},
   "outputs": [],
   "source": [
    "import pandas as pd\n",
    "import numpy as np\n",
    "\n",
    "# Read CSV file into DataFrame\n",
    "df = pd.read_csv('../only_genres.csv')\n",
    "\n",
    "# Replace NaN values in 'genre_list' column with empty string\n",
    "df['genre_list'].fillna(value='', inplace=True)\n",
    "\n",
    "# Define list of genres to filter on\n",
    "unique_genres = [\n",
    "  \"Action & Adventure\",\n",
    "  \"Comedy\",\n",
    "  \"Drama\",\n",
    "  \"Science Fiction & Fantasy\",\n",
    "  \"Romance\",\n",
    "  \"Classics\",\n",
    "  \"Kids & Family\",\n",
    "  \"Mystery & Suspense\",\n",
    "  \"Western\",\n",
    "  \"Art House & International\",\n",
    "  \"Horror\",\n",
    "  \"Faith & Spirituality\",\n",
    "  \"Animation\",\n",
    "  \"Documentary\",\n",
    "  \"Special Interest\",\n",
    "  \"Musical & Performing Arts\",\n",
    "  \"Sports & Fitness\",\n",
    "  \"Television\",\n",
    "  \"Cult Movies\",\n",
    "  \"Anime & Manga\",\n",
    "  \"Gay & Lesbian\"\n",
    "]\n",
    "\n",
    "# Initialize empty list to store filtered DataFrames\n",
    "filtered_dfs = []\n",
    "\n",
    "# Apply filter for each genre in the list\n",
    "for genre in unique_genres:\n",
    "    mask = df['genre_list'].str.contains(genre)\n",
    "    filtered_df = df[mask].replace('', np.nan).dropna().reset_index(drop=True)\n",
    "    # Convert column names to lowercase\n",
    "    filtered_df.columns = filtered_df.columns.str.lower()\n",
    "    filtered_dfs.append(filtered_df)\n",
    "\n",
    "# Export filtered DataFrames to separate CSV files\n",
    "for i, genre in enumerate(unique_genres):\n",
    "    filename = f'{genre.lower()}_reviews.csv'\n",
    "    filtered_dfs[i].to_csv(filename, index=False)"
   ]
  }
 ],
 "metadata": {
  "kernelspec": {
   "display_name": "Python 3",
   "language": "python",
   "name": "python3"
  },
  "language_info": {
   "codemirror_mode": {
    "name": "ipython",
    "version": 3
   },
   "file_extension": ".py",
   "mimetype": "text/x-python",
   "name": "python",
   "nbconvert_exporter": "python",
   "pygments_lexer": "ipython3",
   "version": "3.11.1"
  },
  "orig_nbformat": 4
 },
 "nbformat": 4,
 "nbformat_minor": 2
}
