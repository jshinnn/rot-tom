{
 "cells": [
  {
   "cell_type": "code",
   "execution_count": 5,
   "metadata": {},
   "outputs": [],
   "source": [
    "# Extracting the link, title, genre list, tomatometer / audience status, and dates of release from movie metadata\n",
    "import pandas as pd\n",
    "import csv\n",
    "\n",
    "df = pd.read_csv('../raw_data/og_metadata_with_genre_list.csv')\n",
    "df['year_of_release'] = pd.to_datetime(df['original_release_date'], format='%Y-%m-%d')\n",
    "df['year_of_release'] = df['year_of_release'].dt.strftime('%Y')\n",
    "\n",
    "df['year_of_streaming_release'] = pd.to_datetime(df['streaming_release_date'], format='%Y-%m-%d')\n",
    "df['year_of_streaming_release'] = df['year_of_streaming_release'].dt.strftime('%Y')\n",
    "\n",
    "df = df[['rotten_tomatoes_link', \n",
    "        'movie_title', \n",
    "        'year_of_release',\n",
    "        'year_of_streaming_release',\n",
    "        'tomatometer_status',\n",
    "        'audience_status',\n",
    "        'genre_list']]\n",
    "\n",
    "df.to_csv('metadata_temp.csv')"
   ]
  },
  {
   "cell_type": "code",
   "execution_count": 6,
   "metadata": {},
   "outputs": [],
   "source": [
    "import csv\n",
    "\n",
    "# this creates a csv without the first column and its values\n",
    "with open('metadata_temp.csv', 'r') as input_file, open('metadata_new.csv', 'w', newline='') as output_file:\n",
    "    reader = csv.reader(input_file)\n",
    "    writer = csv.writer(output_file)\n",
    "    for row in reader:\n",
    "        writer.writerow(row[1:])"
   ]
  }
 ],
 "metadata": {
  "kernelspec": {
   "display_name": "Python 3",
   "language": "python",
   "name": "python3"
  },
  "language_info": {
   "codemirror_mode": {
    "name": "ipython",
    "version": 3
   },
   "file_extension": ".py",
   "mimetype": "text/x-python",
   "name": "python",
   "nbconvert_exporter": "python",
   "pygments_lexer": "ipython3",
   "version": "3.11.1"
  },
  "orig_nbformat": 4
 },
 "nbformat": 4,
 "nbformat_minor": 2
}
