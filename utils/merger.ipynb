{
 "cells": [
  {
   "cell_type": "code",
   "execution_count": 4,
   "metadata": {},
   "outputs": [],
   "source": [
    "import pandas as pd \n",
    "\n",
    "# this creates a merged csv so that each review has its own movie_title thing\n",
    "critic_reviews = pd.read_csv('../clean_data/critic_reviews-1.csv')\n",
    "movie_metadata = pd.read_csv('../clean_data/metadata_parsed_by_genre.csv')\n",
    "merged_df = pd.merge(critic_reviews, movie_metadata, on='rotten_tomatoes_link')\n",
    "merged_df.to_csv('raw.csv')"
   ]
  },
  {
   "cell_type": "code",
   "execution_count": null,
   "metadata": {},
   "outputs": [],
   "source": [
    "import csv\n",
    "\n",
    "# this creates a csv without the first column and its values\n",
    "with open('raw.csv', 'r') as input_file, open('merged-1.csv', 'w', newline='') as output_file:\n",
    "    reader = csv.reader(input_file)\n",
    "    writer = csv.writer(output_file)\n",
    "    for row in reader:\n",
    "        writer.writerow(row[1:])"
   ]
  },
  {
   "cell_type": "code",
   "execution_count": 2,
   "metadata": {},
   "outputs": [],
   "source": [
    "import pandas as pd\n",
    "\n",
    "# read CSV file\n",
    "df = pd.read_csv('raw.csv')\n",
    "# ,Unnamed: 0_x,rotten_tomatoes_link,critic_name,top_critic,publisher_name,review_type,\n",
    "# review_score,review_date,review_content,first_name,gender,Unnamed: 0_y,movie_title,movie_info,\n",
    "# critics_consensus,content_rating,directors,authors,actors,original_release_date,streaming_release_date,\n",
    "# runtime,production_company,tomatometer_status,tomatometer_rating,tomatometer_count,audience_status,\n",
    "# audience_rating,audience_count,tomatometer_top_critics_count,tomatometer_fresh_critics_count,\n",
    "# tomatometer_rotten_critics_count,genre_list\n",
    "# \n",
    "# select only the columns you want to keep\n",
    "df = df[['rotten_tomatoes_link', 'review_content', 'movie_title', 'genre_list']]\n",
    "\n",
    "# save the modified dataframe to CSV file\n",
    "df.to_csv('example_modified.csv', index=False)\n"
   ]
  }
 ],
 "metadata": {
  "kernelspec": {
   "display_name": "Python 3",
   "language": "python",
   "name": "python3"
  },
  "language_info": {
   "codemirror_mode": {
    "name": "ipython",
    "version": 3
   },
   "file_extension": ".py",
   "mimetype": "text/x-python",
   "name": "python",
   "nbconvert_exporter": "python",
   "pygments_lexer": "ipython3",
   "version": "3.11.1"
  },
  "orig_nbformat": 4
 },
 "nbformat": 4,
 "nbformat_minor": 2
}
