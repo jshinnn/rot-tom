{
 "cells": [
  {
   "cell_type": "code",
   "execution_count": null,
   "metadata": {},
   "outputs": [],
   "source": [
    "import pandas as pd\n",
    "\n",
    "# Read the CSV file into a pandas dataframe\n",
    "df = pd.read_csv('clean_data/critic_reviews-1.csv')\n",
    "\n",
    "# Group the data by the gender column and count the number of reviews for each group\n",
    "gender_counts = df.groupby('gender')['review_content'].count()\n",
    "\n",
    "# Print the gender counts\n",
    "print(gender_counts)"
   ]
  },
  {
   "cell_type": "code",
   "execution_count": null,
   "metadata": {},
   "outputs": [],
   "source": [
    "import pandas as pd\n",
    "import glob\n",
    "\n",
    "# List all CSV files in a directory\n",
    "csv_files = glob.glob('clean_data/*.csv')\n",
    "\n",
    "# Create an empty list to store the gender counts for each file\n",
    "gender_counts_list = []\n",
    "\n",
    "# Loop through each CSV file\n",
    "for csv_file in csv_files:\n",
    "    # Read the CSV file into a pandas dataframe\n",
    "    df = pd.read_csv(csv_file)\n",
    "    \n",
    "    # Group the data by the gender column and count the number of reviews for each group\n",
    "    gender_counts = df.groupby('gender')['review_content'].count()\n",
    "    \n",
    "    # Append the gender counts to the list\n",
    "    gender_counts_list.append(gender_counts)\n",
    "\n",
    "# Concatenate the gender counts from all files into a single dataframe\n",
    "gender_counts_df = pd.concat(gender_counts_list, axis=1)\n",
    "\n",
    "# Print the gender counts dataframe\n",
    "print(gender_counts_df)"
   ]
  }
 ],
 "metadata": {
  "language_info": {
   "name": "python"
  },
  "orig_nbformat": 4
 },
 "nbformat": 4,
 "nbformat_minor": 2
}
