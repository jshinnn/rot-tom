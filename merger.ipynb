{
 "cells": [
  {
   "cell_type": "code",
   "execution_count": null,
   "metadata": {},
   "outputs": [],
   "source": [
    "import pandas as pd \n",
    "\n",
    "# this creates a merged csv so that each review has its own movie_title thing\n",
    "critic_reviews = pd.read_csv('clean_data/critic_reviews-1.csv')\n",
    "movie_metadata = pd.read_csv('example_modified.csv')\n",
    "merged_df = pd.merge(critic_reviews, movie_metadata, on='rotten_tomatoes_link')\n",
    "merged_df.to_csv('raw.csv')"
   ]
  },
  {
   "cell_type": "code",
   "execution_count": null,
   "metadata": {},
   "outputs": [],
   "source": [
    "import csv\n",
    "\n",
    "# this creates a csv without the first column and its values\n",
    "with open('raw.csv', 'r') as input_file, open('merged-1.csv', 'w', newline='') as output_file:\n",
    "    reader = csv.reader(input_file)\n",
    "    writer = csv.writer(output_file)\n",
    "    for row in reader:\n",
    "        writer.writerow(row[1:])"
   ]
  }
 ],
 "metadata": {
  "language_info": {
   "name": "python"
  },
  "orig_nbformat": 4
 },
 "nbformat": 4,
 "nbformat_minor": 2
}
