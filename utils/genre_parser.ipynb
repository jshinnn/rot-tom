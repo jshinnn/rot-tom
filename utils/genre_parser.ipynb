{
 "cells": [
  {
   "cell_type": "code",
   "execution_count": 4,
   "metadata": {},
   "outputs": [],
   "source": [
    "import pandas as pd\n",
    "\n",
    "data = pd.read_csv('raw_data/rotten_tomatoes_movies.csv')\n",
    "\n",
    "genres = []\n",
    "for g in data['genres']:\n",
    "    if isinstance(g, str):\n",
    "        genre_list = g.split(\",\")\n",
    "        for i in range(len(genre_list)):\n",
    "            genre_list[i] = genre_list[i].strip()\n",
    "        genres.append(genre_list)\n",
    "    else:\n",
    "        genres.append(g)\n",
    "\n",
    "data['genre_list'] = genres\n",
    "data.to_csv('by_genre_old.csv')"
   ]
  },
  {
   "cell_type": "code",
   "execution_count": 5,
   "metadata": {},
   "outputs": [],
   "source": [
    "import pandas as pd\n",
    "\n",
    "# read CSV file\n",
    "df = pd.read_csv('by_genre_old.csv')\n",
    "\n",
    "# drop columns by name\n",
    "df = df.drop(['genres'], axis=1)\n",
    "\n",
    "# save the modified dataframe to CSV file\n",
    "df.to_csv('parsed_by_genre.csv', index=False)"
   ]
  }
 ],
 "metadata": {
  "kernelspec": {
   "display_name": "Python 3",
   "language": "python",
   "name": "python3"
  },
  "language_info": {
   "codemirror_mode": {
    "name": "ipython",
    "version": 3
   },
   "file_extension": ".py",
   "mimetype": "text/x-python",
   "name": "python",
   "nbconvert_exporter": "python",
   "pygments_lexer": "ipython3",
   "version": "3.11.1"
  },
  "orig_nbformat": 4
 },
 "nbformat": 4,
 "nbformat_minor": 2
}
