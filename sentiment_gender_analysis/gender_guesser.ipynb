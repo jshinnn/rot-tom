{
 "cells": [
  {
   "cell_type": "code",
   "execution_count": 48,
   "metadata": {},
   "outputs": [],
   "source": [
    "# Using Python's Gender Guesser library to predict gender of professional critics\n",
    "import pandas as pd\n",
    "import gender_guesser.detector as gender\n",
    "\n",
    "d = gender.Detector()\n",
    "data = pd.read_csv('raw_data/rotten_tomatoes_critic_reviews-1.csv')\n",
    "first_name = data['critic_name'].str.split(\" \").str[0]\n",
    "data['first_name'] = first_name\n",
    "data['gender'] = data['first_name'].map(lambda x: d.get_gender(x))\n",
    "data.to_csv('critic_reviews-1.csv')"
   ]
  }
 ],
 "metadata": {
  "kernelspec": {
   "display_name": "Python 3",
   "language": "python",
   "name": "python3"
  },
  "language_info": {
   "codemirror_mode": {
    "name": "ipython",
    "version": 3
   },
   "file_extension": ".py",
   "mimetype": "text/x-python",
   "name": "python",
   "nbconvert_exporter": "python",
   "pygments_lexer": "ipython3",
   "version": "3.11.1"
  },
  "orig_nbformat": 4
 },
 "nbformat": 4,
 "nbformat_minor": 2
}
