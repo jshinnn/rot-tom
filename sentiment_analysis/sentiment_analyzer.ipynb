{
 "cells": [
  {
   "cell_type": "code",
   "execution_count": 1,
   "metadata": {},
   "outputs": [],
   "source": [
    "import pandas as pd\n",
    "from nltk.sentiment.vader import SentimentIntensityAnalyzer\n",
    "import os\n",
    "\n",
    "# dir where the input files are located\n",
    "input_dir = '/Users/john/projects/rot-tom/gender_analysis/reviews_with_gender'\n",
    "\n",
    "# dir where the output files will be saved\n",
    "output_dir = '/Users/john/projects/rot-tom/sentiment_analysis'\n",
    "\n",
    "# sentiment analyzer\n",
    "sid = SentimentIntensityAnalyzer()\n",
    "\n",
    "# Loop over each file in the input directory\n",
    "for filename in os.listdir(input_dir):\n",
    "    # Read in the CSV file\n",
    "    df = pd.read_csv(os.path.join(input_dir, filename))\n",
    "    \n",
    "    # Calculate sentiment scores for each review and add them to the DataFrame\n",
    "    df['sentiment_scores'] = df['review_content'].apply(lambda x: sid.polarity_scores(x))\n",
    "    \n",
    "    # Extract the compound score from the sentiment dictionary and add it as a new column\n",
    "    df['compound_score'] = df['sentiment_scores'].apply(lambda x: x['compound'])\n",
    "    \n",
    "    # Sort the DataFrame by compound score\n",
    "    df = df.sort_values(by='compound_score', ascending=False)\n",
    "    \n",
    "    # Save the output to a new CSV file in the output directory\n",
    "    output_filename = os.path.join(output_dir, filename)\n",
    "    df.to_csv(output_filename, index=False)\n"
   ]
  },
  {
   "cell_type": "code",
   "execution_count": 5,
   "metadata": {},
   "outputs": [
    {
     "name": "stdout",
     "output_type": "stream",
     "text": [
      "gender_group\n",
      "andy             0.123704\n",
      "female           0.032684\n",
      "male             0.015760\n",
      "mostly_female    0.054016\n",
      "unknown          0.031447\n",
      "Name: compound_score, dtype: float64\n"
     ]
    }
   ],
   "source": [
    "import pandas as pd\n",
    "\n",
    "# Read in the sentiment scores CSV file\n",
    "df = pd.read_csv('horror_reviews.csv')\n",
    "\n",
    "# Create a new column to combine gender values\n",
    "df['gender_group'] = df['gender'].replace({'mostly_female': 'female'})\n",
    "df['gender_group'] = df['gender'].replace({'mostly_male': 'male'})\n",
    "\n",
    "# Group by the combined gender column and calculate the average sentiment score\n",
    "avg_sentiment = df.groupby('gender_group')['compound_score'].mean()\n",
    "\n",
    "# Print the average sentiment scores\n",
    "print(avg_sentiment)"
   ]
  },
  {
   "cell_type": "code",
   "execution_count": 7,
   "metadata": {},
   "outputs": [],
   "source": [
    "import os\n",
    "import pandas as pd\n",
    "\n",
    "# get all the reviews from the directory\n",
    "directory = '/Users/john/projects/rot-tom/sentiment_analysis/reviews_with_sentiment_scores'\n",
    "file_names = [os.path.join(directory, f) for f in os.listdir(directory) if f.endswith('.csv')]\n",
    "\n",
    "# calculate average sentiment scores and counts, and store them in a dictionary\n",
    "results = []\n",
    "for file_name in file_names:\n",
    "    df = pd.read_csv(file_name)\n",
    "    df['gender_group'] = df['gender'].replace({'mostly_female': 'female', 'mostly_male': 'male'})\n",
    "    gender_counts = df['gender_group'].value_counts()\n",
    "    male_count = gender_counts.get('male', 0)\n",
    "    female_count = gender_counts.get('female', 0)\n",
    "    avg_sentiment = df.groupby('gender_group')['compound_score'].mean()\n",
    "    genre = os.path.splitext(os.path.basename(file_name))[0].split('_')[0]\n",
    "    male_avg = avg_sentiment.loc['male']\n",
    "    female_avg = avg_sentiment.loc['female']\n",
    "    result = {'genre': genre, 'male_review_average': male_avg, 'female_review_average': female_avg,\n",
    "              'male_review_count': male_count, 'female_review_count': female_count}\n",
    "    results.append(result)\n",
    "\n",
    "# write to new csv\n",
    "df = pd.DataFrame.from_dict(results)\n",
    "df.to_csv('genre_sentiment_averages.csv', index=False)"
   ]
  },
  {
   "cell_type": "code",
   "execution_count": 1,
   "metadata": {},
   "outputs": [],
   "source": [
    "import pandas as pd\n",
    "import os\n",
    "\n",
    "# Set the path to the directory containing the CSV files\n",
    "dir_path = \"/Users/john/projects/rot-tom/sentiment_analysis/reviews_with_sentiment_scores\"\n",
    "output_path = \"/Users/john/projects/rot-tom/sentiment_analysis/score_subsets\"\n",
    "\n",
    "# Loop through each file in the directory\n",
    "for file_name in os.listdir(dir_path):\n",
    "    if file_name.endswith(\".csv\"):\n",
    "        # Read the CSV file into a pandas DataFrame\n",
    "        df = pd.read_csv(os.path.join(dir_path, file_name))\n",
    "        \n",
    "        # Get the first and last 20 rows\n",
    "        top_positive = df.head(20)\n",
    "        top_negative = df.tail(20)\n",
    "        \n",
    "        # Concatenate the first and last 20 rows into a new DataFrame\n",
    "        new_df = pd.concat([top_positive, top_negative])\n",
    "        \n",
    "        # Write the new DataFrame to a new CSV file\n",
    "        new_file_name = os.path.splitext(file_name)[0] + \".csv\"\n",
    "        new_df.to_csv(os.path.join(output_path, new_file_name), index=False)\n"
   ]
  }
 ],
 "metadata": {
  "kernelspec": {
   "display_name": "Python 3",
   "language": "python",
   "name": "python3"
  },
  "language_info": {
   "codemirror_mode": {
    "name": "ipython",
    "version": 3
   },
   "file_extension": ".py",
   "mimetype": "text/x-python",
   "name": "python",
   "nbconvert_exporter": "python",
   "pygments_lexer": "ipython3",
   "version": "3.11.1"
  },
  "orig_nbformat": 4
 },
 "nbformat": 4,
 "nbformat_minor": 2
}
